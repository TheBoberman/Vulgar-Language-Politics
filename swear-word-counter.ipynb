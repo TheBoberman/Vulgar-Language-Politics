{
 "cells": [
  {
   "cell_type": "code",
   "execution_count": 2,
   "metadata": {},
   "outputs": [
    {
     "name": "stdout",
     "output_type": "stream",
     "text": [
      "Total words: 2462\n",
      "Swear words: 37\n",
      "Swear words per 1000 words: 15.03\n"
     ]
    }
   ],
   "source": [
    "def count_swear_words(text_file, swear_words_file):                  #Dont touch anything except bottom\n",
    "    # Read the text file\n",
    "    with open(text_file, 'r') as file:\n",
    "        text = file.read()\n",
    "\n",
    "    # Read the swear words file\n",
    "    with open(swear_words_file, 'r') as file:\n",
    "        swear_words = file.read().splitlines()\n",
    "\n",
    "    # Clean the text by removing punctuation and converting to lowercase\n",
    "    text = ''.join(c for c in text if c.isalnum() or c.isspace())\n",
    "    text = text.lower()\n",
    "\n",
    "    # Split the text into words\n",
    "    words = text.split()\n",
    "\n",
    "    # Count the total number of words\n",
    "    total_words = len(words)\n",
    "\n",
    "    # Count the number of swear words (case-insensitive)\n",
    "    swear_word_count = sum(word.lower() in swear_words for word in words)\n",
    "\n",
    "    # Calculate the frequency per 1000 words\n",
    "    swear_word_frequency = (swear_word_count / total_words) * 1000\n",
    "\n",
    "    # Print the result\n",
    "    print(f\"Total words: {total_words}\")\n",
    "    print(f\"Swear words: {swear_word_count}\")\n",
    "    print(f\"Swear words per 1000 words: {swear_word_frequency:.2f}\")\n",
    "\n",
    "# Example usage\n",
    "text_file = '/home/stranger/Vulgar Language/Test/Vulgar-Language-Politics/Input.txt'  # VERY IMPORTANT: REPLACE WITH THE RIGHT PERSON\n",
    "swear_words_file = '/home/stranger/Vulgar Language/Test/Vulgar-Language-Politics/swear-words.txt'  # Replace with your swear words file\n",
    "\n",
    "count_swear_words(text_file, swear_words_file) \n"
   ]
  }
 ],
 "metadata": {
  "kernelspec": {
   "display_name": "Test Environment",
   "language": "python",
   "name": "testenv"
  },
  "language_info": {
   "codemirror_mode": {
    "name": "ipython",
    "version": 3
   },
   "file_extension": ".py",
   "mimetype": "text/x-python",
   "name": "python",
   "nbconvert_exporter": "python",
   "pygments_lexer": "ipython3",
   "version": "3.11.3"
  },
  "orig_nbformat": 4
 },
 "nbformat": 4,
 "nbformat_minor": 2
}
