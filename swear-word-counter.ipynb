{
 "cells": [
  {
   "cell_type": "code",
   "execution_count": 3,
   "metadata": {},
   "outputs": [
    {
     "ename": "ValueError",
     "evalue": "not enough values to unpack (expected 2, got 1)",
     "output_type": "error",
     "traceback": [
      "\u001b[0;31m---------------------------------------------------------------------------\u001b[0m",
      "\u001b[0;31mValueError\u001b[0m                                Traceback (most recent call last)",
      "Cell \u001b[0;32mIn[3], line 10\u001b[0m\n\u001b[1;32m      8\u001b[0m \u001b[39mwith\u001b[39;00m \u001b[39mopen\u001b[39m(\u001b[39m\"\u001b[39m\u001b[39mcredentials.txt\u001b[39m\u001b[39m\"\u001b[39m, \u001b[39m\"\u001b[39m\u001b[39mr\u001b[39m\u001b[39m\"\u001b[39m) \u001b[39mas\u001b[39;00m file:\n\u001b[1;32m      9\u001b[0m     \u001b[39mfor\u001b[39;00m line \u001b[39min\u001b[39;00m file:\n\u001b[0;32m---> 10\u001b[0m         key, value \u001b[39m=\u001b[39m line\u001b[39m.\u001b[39mstrip()\u001b[39m.\u001b[39msplit(\u001b[39m'\u001b[39m\u001b[39m=\u001b[39m\u001b[39m'\u001b[39m)\n\u001b[1;32m     11\u001b[0m         credentials[key] \u001b[39m=\u001b[39m value\n\u001b[1;32m     13\u001b[0m \u001b[39m# Twitter API credentials\u001b[39;00m\n",
      "\u001b[0;31mValueError\u001b[0m: not enough values to unpack (expected 2, got 1)"
     ]
    }
   ],
   "source": [
    "import tweepy\n",
    "import nltk\n",
    "from nltk.tokenize import word_tokenize\n",
    "from collections import Counter\n",
    "\n",
    "# Read credentials from file\n",
    "credentials = {}\n",
    "with open(\"credentials.txt\", \"r\") as file:\n",
    "    for line in file:\n",
    "        key, value = line.strip().split('=')\n",
    "        credentials[key] = value\n",
    "\n",
    "# Twitter API credentials\n",
    "consumer_key = credentials['consumer_key']\n",
    "consumer_secret = credentials['consumer_secret']\n",
    "access_key = credentials['access_key']\n",
    "access_secret = credentials['access_secret']\n",
    "\n",
    "# Authenticate to Twitter\n",
    "auth = tweepy.OAuthHandler(consumer_key, consumer_secret)\n",
    "auth.set_access_token(access_key, access_secret)\n",
    "\n",
    "# Create API object\n",
    "api = tweepy.API(auth)\n",
    "\n",
    "def get_tweets(username):\n",
    "    tweets = []\n",
    "    for status in tweepy.Cursor(api.user_timeline, screen_name=username, tweet_mode=\"extended\").items(1000):\n",
    "        tweets.append(status.full_text)\n",
    "    return ' '.join(tweets)\n",
    "\n",
    "def count_swear_words(text, swear_words):\n",
    "    words = word_tokenize(text)\n",
    "    swear_count = sum(word in swear_words for word in words)\n",
    "    return swear_count * 1000 / len(words)\n",
    "\n",
    "def main(username):\n",
    "    with open(\"swear-words.txt\", \"r\") as file:\n",
    "        swear_words = file.read().splitlines()\n",
    "    tweets = get_tweets(username)\n",
    "    swear_count = count_swear_words(tweets, swear_words)\n",
    "    print(f\"The text contains {swear_count} swear words per 1000 words.\")\n"
   ]
  }
 ],
 "metadata": {
  "kernelspec": {
   "display_name": "Test Environment",
   "language": "python",
   "name": "testenv"
  },
  "language_info": {
   "codemirror_mode": {
    "name": "ipython",
    "version": 3
   },
   "file_extension": ".py",
   "mimetype": "text/x-python",
   "name": "python",
   "nbconvert_exporter": "python",
   "pygments_lexer": "ipython3",
   "version": "3.11.3"
  },
  "orig_nbformat": 4
 },
 "nbformat": 4,
 "nbformat_minor": 2
}
