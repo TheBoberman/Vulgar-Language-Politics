{
 "cells": [
  {
   "cell_type": "code",
   "execution_count": 5,
   "metadata": {},
   "outputs": [
    {
     "ename": "ModuleNotFoundError",
     "evalue": "No module named 'tweepy'",
     "output_type": "error",
     "traceback": [
      "\u001b[0;31m---------------------------------------------------------------------------\u001b[0m",
      "\u001b[0;31mModuleNotFoundError\u001b[0m                       Traceback (most recent call last)",
      "Cell \u001b[0;32mIn[5], line 1\u001b[0m\n\u001b[0;32m----> 1\u001b[0m \u001b[39mimport\u001b[39;00m \u001b[39mtweepy\u001b[39;00m\n\u001b[1;32m      2\u001b[0m \u001b[39mimport\u001b[39;00m \u001b[39mnltk\u001b[39;00m\n\u001b[1;32m      3\u001b[0m \u001b[39mfrom\u001b[39;00m \u001b[39mnltk\u001b[39;00m\u001b[39m.\u001b[39;00m\u001b[39mtokenize\u001b[39;00m \u001b[39mimport\u001b[39;00m word_tokenize\n",
      "\u001b[0;31mModuleNotFoundError\u001b[0m: No module named 'tweepy'"
     ]
    }
   ],
   "source": [
    "import tweepy\n",
    "import nltk\n",
    "from nltk.tokenize import word_tokenize\n",
    "from collections import Counter\n",
    "\n",
    "# Twitter API credentials\n",
    "consumer_key = \"your_consumer_key\"\n",
    "consumer_secret = \"your_consumer_secret\"\n",
    "access_key = \"your_access_key\"\n",
    "access_secret = \"your_access_secret\"\n",
    "\n",
    "# Authenticate to Twitter\n",
    "auth = tweepy.OAuthHandler(consumer_key, consumer_secret)\n",
    "auth.set_access_token(access_key, access_secret)\n",
    "\n",
    "# Create API object\n",
    "api = tweepy.API(auth)\n",
    "\n",
    "def get_tweets(username):\n",
    "    tweets = []\n",
    "    for status in tweepy.Cursor(api.user_timeline, screen_name=username, tweet_mode=\"extended\").items(1000):\n",
    "        tweets.append(status.full_text)\n",
    "    return ' '.join(tweets)\n",
    "\n",
    "def count_swear_words(text, swear_words):\n",
    "    words = word_tokenize(text)\n",
    "    swear_count = sum(word in swear_words for word in words)\n",
    "    return swear_count * 1000 / len(words)\n",
    "\n",
    "def main(username):\n",
    "    with open(\"swear-words.txt\", \"r\") as file:\n",
    "        swear_words = file.read().splitlines()\n",
    "    tweets = get_tweets(username)\n",
    "    swear_count = count_swear_words(tweets, swear_words)\n",
    "    print(f\"The text contains {swear_count} swear words per 1000 words.\")\n",
    "\n",
    "# Replace \"@username\" with the Twitter handle of the user you want to analyze\n",
    "main(\"@username\")\n"
   ]
  }
 ],
 "metadata": {
  "kernelspec": {
   "display_name": "Test Environment",
   "language": "python",
   "name": "testenv"
  },
  "language_info": {
   "codemirror_mode": {
    "name": "ipython",
    "version": 3
   },
   "file_extension": ".py",
   "mimetype": "text/x-python",
   "name": "python",
   "nbconvert_exporter": "python",
   "pygments_lexer": "ipython3",
   "version": "3.11.3"
  },
  "orig_nbformat": 4
 },
 "nbformat": 4,
 "nbformat_minor": 2
}
